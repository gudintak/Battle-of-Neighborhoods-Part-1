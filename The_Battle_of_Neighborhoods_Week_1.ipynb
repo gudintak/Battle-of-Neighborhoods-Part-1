{
  "nbformat": 4,
  "nbformat_minor": 0,
  "metadata": {
    "colab": {
      "name": "The Battle of Neighborhoods - Week 1",
      "version": "0.3.2",
      "provenance": [],
      "collapsed_sections": []
    },
    "kernelspec": {
      "name": "python3",
      "display_name": "Python 3"
    }
  },
  "cells": [
    {
      "cell_type": "markdown",
      "metadata": {
        "id": "SspksI9lXC7p",
        "colab_type": "text"
      },
      "source": [
        "# Introduction/Business Problem"
      ]
    },
    {
      "cell_type": "markdown",
      "metadata": {
        "id": "YTWgI6WJXJT4",
        "colab_type": "text"
      },
      "source": [
        "I am looking for a locality in Bangalore (India) to start a new restaurant. As I live in whitefield area, I would prefer to start the restaurant in the locality. I want the locality to have a lot of customers and at the same time less competition for my restuarant so that I can prosper in my business. I will be using the skills that I have learnt in this course to do the task. "
      ]
    },
    {
      "cell_type": "markdown",
      "metadata": {
        "id": "5P9FA2GQX4Cx",
        "colab_type": "text"
      },
      "source": [
        "# Data "
      ]
    },
    {
      "cell_type": "markdown",
      "metadata": {
        "id": "RhcN-t3qYITr",
        "colab_type": "text"
      },
      "source": [
        "I would be needing the following data to proceed with the task:\n",
        "\n",
        "- Different localities of Bangalore (India) from Wikipedia or any other source. \n",
        "\n",
        "- The coordinates (latitude, longitude) of these localities of Bangalore from Open Street Map APIs\n",
        "\n",
        "- From Foursquare we will need following venues data:\n",
        "  - Different restaurant in the Localities\n",
        "  - Offices in the Localities\n",
        "  - Schools/Colleges in the Localities\n",
        "\n",
        "I  will then leverage the available data in order to determine which locality would be the most appropriate in order to locate the my new restaurant. "
      ]
    },
    {
      "cell_type": "code",
      "metadata": {
        "id": "R0WW1VaHZExV",
        "colab_type": "code",
        "colab": {}
      },
      "source": [
        ""
      ],
      "execution_count": 0,
      "outputs": []
    }
  ]
}